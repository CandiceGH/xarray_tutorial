{
 "cells": [
  {
   "cell_type": "code",
   "execution_count": null,
   "metadata": {},
   "outputs": [],
   "source": [
    "%matplotlib inline"
   ]
  },
  {
   "cell_type": "markdown",
   "metadata": {},
   "source": [
    "Getting Started with Xarray\n",
    "===========================\n",
    "\n",
    "Welcome to the xarray tutorial. These notebooks will walk you through some of the basics of xarray and will provide you with oportunities to explore the package a bit on your own.\n",
    "\n",
    "Some resources for you before we get started:\n",
    "\n",
    "- Xarray documentation: http://xarray.pydata.org/en/latest/index.html\n",
    "- Xarray paper: http://doi.org/10.5334/jors.148\n",
    "- Xarray Github page: https://github.com/pydata/xarray\n",
    "\n",
    "In this notebook, we'll just make sure we can import xarray and access the tutorial data. After that, you should head over to the `tutorail` directory to go through the rest of the material."
   ]
  },
  {
   "cell_type": "code",
   "execution_count": null,
   "metadata": {},
   "outputs": [],
   "source": [
    "# import xarray\n",
    "import xarray as xr"
   ]
  },
  {
   "cell_type": "code",
   "execution_count": null,
   "metadata": {},
   "outputs": [],
   "source": [
    "# load the air temperature dataset\n",
    "# you can replace 'air_temperature' with `rasm` to get a different dataset\n",
    "\n",
    "ds = xr.tutorial.load_dataset('air_temperature')"
   ]
  },
  {
   "cell_type": "code",
   "execution_count": null,
   "metadata": {},
   "outputs": [],
   "source": [
    "ds"
   ]
  },
  {
   "cell_type": "code",
   "execution_count": null,
   "metadata": {},
   "outputs": [],
   "source": [
    "# calculate the season means\n",
    "avg_temp = ds['air'].groupby('time.season').mean('time')"
   ]
  },
  {
   "cell_type": "code",
   "execution_count": null,
   "metadata": {},
   "outputs": [],
   "source": [
    "# make a quick plot\n",
    "avg_temp.plot(col='season', robust=True)"
   ]
  },
  {
   "cell_type": "code",
   "execution_count": null,
   "metadata": {},
   "outputs": [],
   "source": []
  }
 ],
 "metadata": {
  "kernelspec": {
   "display_name": "Python 3",
   "language": "python",
   "name": "python3"
  },
  "language_info": {
   "codemirror_mode": {
    "name": "ipython",
    "version": 3
   },
   "file_extension": ".py",
   "mimetype": "text/x-python",
   "name": "python",
   "nbconvert_exporter": "python",
   "pygments_lexer": "ipython3",
   "version": "3.6.5"
  }
 },
 "nbformat": 4,
 "nbformat_minor": 2
}
